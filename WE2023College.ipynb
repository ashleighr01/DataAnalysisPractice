{
  "nbformat": 4,
  "nbformat_minor": 0,
  "metadata": {
    "colab": {
      "provenance": []
    },
    "kernelspec": {
      "name": "python3",
      "display_name": "Python 3"
    },
    "language_info": {
      "name": "python"
    }
  },
  "cells": [
    {
      "cell_type": "markdown",
      "source": [
        "**2023 Postsecondary Info--College**\n",
        "\n",
        "*The data given shows current seniors who have decided to attend college--as of November 30, 2022. The goal is to show how many students have completed all information and what information is remaining.*"
      ],
      "metadata": {
        "id": "Kp-4HHJF__2e"
      }
    },
    {
      "cell_type": "code",
      "execution_count": null,
      "metadata": {
        "id": "gQQORjyJ_66C"
      },
      "outputs": [],
      "source": [
        "import pandas as pd\n",
        "import numpy as np\n",
        "import matplotlib.pyplot as plt\n",
        "import seaborn as sns\n",
        "%matplotlib inline"
      ]
    },
    {
      "cell_type": "code",
      "source": [
        "from google.colab import drive\n",
        "drive.mount('/content/gdrive')"
      ],
      "metadata": {
        "colab": {
          "base_uri": "https://localhost:8080/"
        },
        "id": "ThLId-DPALds",
        "outputId": "a1b9ab0f-1b10-4594-8188-cff538be6f9f"
      },
      "execution_count": null,
      "outputs": [
        {
          "output_type": "stream",
          "name": "stdout",
          "text": [
            "Mounted at /content/gdrive\n"
          ]
        }
      ]
    },
    {
      "cell_type": "code",
      "source": [
        "collegeDF = pd.read_csv('/content/gdrive/MyDrive/DataAnalyticsPractice/PostsecondaryPlansClassof2023CollegeResponses.csv')"
      ],
      "metadata": {
        "id": "pyDs1NdhAODe"
      },
      "execution_count": null,
      "outputs": []
    },
    {
      "cell_type": "code",
      "source": [
        "collegeDF.sample(10)"
      ],
      "metadata": {
        "colab": {
          "base_uri": "https://localhost:8080/",
          "height": 476
        },
        "id": "974shXGQBhUa",
        "outputId": "c5de4fcb-f818-4818-ce2c-c46339496ef4"
      },
      "execution_count": null,
      "outputs": [
        {
          "output_type": "execute_result",
          "data": {
            "text/plain": [
              "    Student Name (first, last) Future Goals- College, Military, Workforce?  \\\n",
              "108              Macey Russell                                     College   \n",
              "113               Anthony Kirk                                     College   \n",
              "1                 Alecia Glenn                                    Military   \n",
              "96              Isaiah Andrews                                     College   \n",
              "23              Colton Edwards                                     College   \n",
              "40              Jaylan Pearson                                     College   \n",
              "82               Tucker Turner                                     College   \n",
              "22           Christopher Arita                                     College   \n",
              "51                Luke Cummins                                     College   \n",
              "25             DraTavyn Barber                                     College   \n",
              "\n",
              "    If college, have you applied to any colleges? If so, what colleges  \\\n",
              "108  Florida State, Western Kentucky, Brescia Unive...                   \n",
              "113                                                NaN                   \n",
              "1                                                  WKU                   \n",
              "96                         WKU, University of Kentucky                   \n",
              "23                                                 WKU                   \n",
              "40                            WKU, Lindsey Wilson, EKU                   \n",
              "82                                              SKYCTC                   \n",
              "22                                  Currently applying                   \n",
              "51                                                 WKU                   \n",
              "25              SKYCTC, Kentucky Christian, Georgetown                   \n",
              "\n",
              "    Have you been accepted to any colleges?  \\\n",
              "108                         Accepted to all   \n",
              "113                                     NaN   \n",
              "1                                        No   \n",
              "96                                      WKU   \n",
              "23                                      yes   \n",
              "40                                       no   \n",
              "82                                       No   \n",
              "22                              SKYCTC, WKU   \n",
              "51                                       No   \n",
              "25                                       No   \n",
              "\n",
              "    If you have applied to colleges what is your major?  \\\n",
              "108                               Education-Elementary    \n",
              "113                                                NaN    \n",
              "1                           General Science Technology    \n",
              "96                                            Business    \n",
              "23                                         Real Estate    \n",
              "40                                         Criminology    \n",
              "82                              Industrial Maintenance    \n",
              "22                                 Electrical Engineer    \n",
              "51                                            Business    \n",
              "25                                    Sports Marketing    \n",
              "\n",
              "    Have you completed FAFSA? Have you completed any scholarships  \n",
              "108                       Yes                                 Yes  \n",
              "113                       NaN                                 NaN  \n",
              "1                          No                                 NaN  \n",
              "96                        Yes                                 Yes  \n",
              "23                         No                                 NaN  \n",
              "40                         No                                 NaN  \n",
              "82                         No                                 NaN  \n",
              "22                         No                                  No  \n",
              "51                         No                                 NaN  \n",
              "25                         No                                 NaN  "
            ],
            "text/html": [
              "\n",
              "  <div id=\"df-c155bba1-520c-4ee0-a1c3-9e36b8e9dd8d\">\n",
              "    <div class=\"colab-df-container\">\n",
              "      <div>\n",
              "<style scoped>\n",
              "    .dataframe tbody tr th:only-of-type {\n",
              "        vertical-align: middle;\n",
              "    }\n",
              "\n",
              "    .dataframe tbody tr th {\n",
              "        vertical-align: top;\n",
              "    }\n",
              "\n",
              "    .dataframe thead th {\n",
              "        text-align: right;\n",
              "    }\n",
              "</style>\n",
              "<table border=\"1\" class=\"dataframe\">\n",
              "  <thead>\n",
              "    <tr style=\"text-align: right;\">\n",
              "      <th></th>\n",
              "      <th>Student Name (first, last)</th>\n",
              "      <th>Future Goals- College, Military, Workforce?</th>\n",
              "      <th>If college, have you applied to any colleges? If so, what colleges</th>\n",
              "      <th>Have you been accepted to any colleges?</th>\n",
              "      <th>If you have applied to colleges what is your major?</th>\n",
              "      <th>Have you completed FAFSA?</th>\n",
              "      <th>Have you completed any scholarships</th>\n",
              "    </tr>\n",
              "  </thead>\n",
              "  <tbody>\n",
              "    <tr>\n",
              "      <th>108</th>\n",
              "      <td>Macey Russell</td>\n",
              "      <td>College</td>\n",
              "      <td>Florida State, Western Kentucky, Brescia Unive...</td>\n",
              "      <td>Accepted to all</td>\n",
              "      <td>Education-Elementary</td>\n",
              "      <td>Yes</td>\n",
              "      <td>Yes</td>\n",
              "    </tr>\n",
              "    <tr>\n",
              "      <th>113</th>\n",
              "      <td>Anthony Kirk</td>\n",
              "      <td>College</td>\n",
              "      <td>NaN</td>\n",
              "      <td>NaN</td>\n",
              "      <td>NaN</td>\n",
              "      <td>NaN</td>\n",
              "      <td>NaN</td>\n",
              "    </tr>\n",
              "    <tr>\n",
              "      <th>1</th>\n",
              "      <td>Alecia Glenn</td>\n",
              "      <td>Military</td>\n",
              "      <td>WKU</td>\n",
              "      <td>No</td>\n",
              "      <td>General Science Technology</td>\n",
              "      <td>No</td>\n",
              "      <td>NaN</td>\n",
              "    </tr>\n",
              "    <tr>\n",
              "      <th>96</th>\n",
              "      <td>Isaiah Andrews</td>\n",
              "      <td>College</td>\n",
              "      <td>WKU, University of Kentucky</td>\n",
              "      <td>WKU</td>\n",
              "      <td>Business</td>\n",
              "      <td>Yes</td>\n",
              "      <td>Yes</td>\n",
              "    </tr>\n",
              "    <tr>\n",
              "      <th>23</th>\n",
              "      <td>Colton Edwards</td>\n",
              "      <td>College</td>\n",
              "      <td>WKU</td>\n",
              "      <td>yes</td>\n",
              "      <td>Real Estate</td>\n",
              "      <td>No</td>\n",
              "      <td>NaN</td>\n",
              "    </tr>\n",
              "    <tr>\n",
              "      <th>40</th>\n",
              "      <td>Jaylan Pearson</td>\n",
              "      <td>College</td>\n",
              "      <td>WKU, Lindsey Wilson, EKU</td>\n",
              "      <td>no</td>\n",
              "      <td>Criminology</td>\n",
              "      <td>No</td>\n",
              "      <td>NaN</td>\n",
              "    </tr>\n",
              "    <tr>\n",
              "      <th>82</th>\n",
              "      <td>Tucker Turner</td>\n",
              "      <td>College</td>\n",
              "      <td>SKYCTC</td>\n",
              "      <td>No</td>\n",
              "      <td>Industrial Maintenance</td>\n",
              "      <td>No</td>\n",
              "      <td>NaN</td>\n",
              "    </tr>\n",
              "    <tr>\n",
              "      <th>22</th>\n",
              "      <td>Christopher Arita</td>\n",
              "      <td>College</td>\n",
              "      <td>Currently applying</td>\n",
              "      <td>SKYCTC, WKU</td>\n",
              "      <td>Electrical Engineer</td>\n",
              "      <td>No</td>\n",
              "      <td>No</td>\n",
              "    </tr>\n",
              "    <tr>\n",
              "      <th>51</th>\n",
              "      <td>Luke Cummins</td>\n",
              "      <td>College</td>\n",
              "      <td>WKU</td>\n",
              "      <td>No</td>\n",
              "      <td>Business</td>\n",
              "      <td>No</td>\n",
              "      <td>NaN</td>\n",
              "    </tr>\n",
              "    <tr>\n",
              "      <th>25</th>\n",
              "      <td>DraTavyn Barber</td>\n",
              "      <td>College</td>\n",
              "      <td>SKYCTC, Kentucky Christian, Georgetown</td>\n",
              "      <td>No</td>\n",
              "      <td>Sports Marketing</td>\n",
              "      <td>No</td>\n",
              "      <td>NaN</td>\n",
              "    </tr>\n",
              "  </tbody>\n",
              "</table>\n",
              "</div>\n",
              "      <button class=\"colab-df-convert\" onclick=\"convertToInteractive('df-c155bba1-520c-4ee0-a1c3-9e36b8e9dd8d')\"\n",
              "              title=\"Convert this dataframe to an interactive table.\"\n",
              "              style=\"display:none;\">\n",
              "        \n",
              "  <svg xmlns=\"http://www.w3.org/2000/svg\" height=\"24px\"viewBox=\"0 0 24 24\"\n",
              "       width=\"24px\">\n",
              "    <path d=\"M0 0h24v24H0V0z\" fill=\"none\"/>\n",
              "    <path d=\"M18.56 5.44l.94 2.06.94-2.06 2.06-.94-2.06-.94-.94-2.06-.94 2.06-2.06.94zm-11 1L8.5 8.5l.94-2.06 2.06-.94-2.06-.94L8.5 2.5l-.94 2.06-2.06.94zm10 10l.94 2.06.94-2.06 2.06-.94-2.06-.94-.94-2.06-.94 2.06-2.06.94z\"/><path d=\"M17.41 7.96l-1.37-1.37c-.4-.4-.92-.59-1.43-.59-.52 0-1.04.2-1.43.59L10.3 9.45l-7.72 7.72c-.78.78-.78 2.05 0 2.83L4 21.41c.39.39.9.59 1.41.59.51 0 1.02-.2 1.41-.59l7.78-7.78 2.81-2.81c.8-.78.8-2.07 0-2.86zM5.41 20L4 18.59l7.72-7.72 1.47 1.35L5.41 20z\"/>\n",
              "  </svg>\n",
              "      </button>\n",
              "      \n",
              "  <style>\n",
              "    .colab-df-container {\n",
              "      display:flex;\n",
              "      flex-wrap:wrap;\n",
              "      gap: 12px;\n",
              "    }\n",
              "\n",
              "    .colab-df-convert {\n",
              "      background-color: #E8F0FE;\n",
              "      border: none;\n",
              "      border-radius: 50%;\n",
              "      cursor: pointer;\n",
              "      display: none;\n",
              "      fill: #1967D2;\n",
              "      height: 32px;\n",
              "      padding: 0 0 0 0;\n",
              "      width: 32px;\n",
              "    }\n",
              "\n",
              "    .colab-df-convert:hover {\n",
              "      background-color: #E2EBFA;\n",
              "      box-shadow: 0px 1px 2px rgba(60, 64, 67, 0.3), 0px 1px 3px 1px rgba(60, 64, 67, 0.15);\n",
              "      fill: #174EA6;\n",
              "    }\n",
              "\n",
              "    [theme=dark] .colab-df-convert {\n",
              "      background-color: #3B4455;\n",
              "      fill: #D2E3FC;\n",
              "    }\n",
              "\n",
              "    [theme=dark] .colab-df-convert:hover {\n",
              "      background-color: #434B5C;\n",
              "      box-shadow: 0px 1px 3px 1px rgba(0, 0, 0, 0.15);\n",
              "      filter: drop-shadow(0px 1px 2px rgba(0, 0, 0, 0.3));\n",
              "      fill: #FFFFFF;\n",
              "    }\n",
              "  </style>\n",
              "\n",
              "      <script>\n",
              "        const buttonEl =\n",
              "          document.querySelector('#df-c155bba1-520c-4ee0-a1c3-9e36b8e9dd8d button.colab-df-convert');\n",
              "        buttonEl.style.display =\n",
              "          google.colab.kernel.accessAllowed ? 'block' : 'none';\n",
              "\n",
              "        async function convertToInteractive(key) {\n",
              "          const element = document.querySelector('#df-c155bba1-520c-4ee0-a1c3-9e36b8e9dd8d');\n",
              "          const dataTable =\n",
              "            await google.colab.kernel.invokeFunction('convertToInteractive',\n",
              "                                                     [key], {});\n",
              "          if (!dataTable) return;\n",
              "\n",
              "          const docLinkHtml = 'Like what you see? Visit the ' +\n",
              "            '<a target=\"_blank\" href=https://colab.research.google.com/notebooks/data_table.ipynb>data table notebook</a>'\n",
              "            + ' to learn more about interactive tables.';\n",
              "          element.innerHTML = '';\n",
              "          dataTable['output_type'] = 'display_data';\n",
              "          await google.colab.output.renderOutput(dataTable, element);\n",
              "          const docLink = document.createElement('div');\n",
              "          docLink.innerHTML = docLinkHtml;\n",
              "          element.appendChild(docLink);\n",
              "        }\n",
              "      </script>\n",
              "    </div>\n",
              "  </div>\n",
              "  "
            ]
          },
          "metadata": {},
          "execution_count": 4
        }
      ]
    },
    {
      "cell_type": "code",
      "source": [
        "print(collegeDF.columns)"
      ],
      "metadata": {
        "colab": {
          "base_uri": "https://localhost:8080/"
        },
        "id": "i6kuwKd3EJi1",
        "outputId": "26e3fa6d-2836-4138-cd8d-194ed2336f7e"
      },
      "execution_count": null,
      "outputs": [
        {
          "output_type": "stream",
          "name": "stdout",
          "text": [
            "Index(['Student Name (first, last)',\n",
            "       'Future Goals- College, Military, Workforce?',\n",
            "       'If college, have you applied to any colleges? If so, what colleges',\n",
            "       'Have you been accepted to any colleges?',\n",
            "       'If you have applied to colleges what is your major?',\n",
            "       'Have you completed FAFSA?', 'Have you completed any scholarships'],\n",
            "      dtype='object')\n"
          ]
        }
      ]
    },
    {
      "cell_type": "code",
      "source": [
        "collegeDF.rename(columns={'Student Name (first, last)': 'Name', 'Future Goals- College, Military, Workforce?': 'Goals', 'If college, have you applied to any colleges? If so, what colleges': 'CollegeNames', 'Have you been accepted to any colleges?': 'Accepted', 'Have you completed FAFSA?': 'FAFSACompletion', 'Have you completed any scholarships': 'Scholarships'}, inplace=True)"
      ],
      "metadata": {
        "id": "7q18SeRgEXMj"
      },
      "execution_count": null,
      "outputs": []
    },
    {
      "cell_type": "code",
      "source": [
        "collegeDF['Accepted'] = collegeDF['Accepted'].apply(lambda x: 1 if x==\"Yes\" else 0)\n",
        "collegeDF['FAFSACompletion'] = collegeDF['FAFSACompletion'].apply(lambda x: 1 if x==\"Yes\" else 0)\n",
        "collegeDF['Scholarships'] = collegeDF['Scholarships'].apply(lambda x: 1 if x==\"Yes\" else 0)"
      ],
      "metadata": {
        "id": "mmk62YRJFgV8"
      },
      "execution_count": null,
      "outputs": []
    },
    {
      "cell_type": "code",
      "source": [
        "collegeDF.sample(15)"
      ],
      "metadata": {
        "colab": {
          "base_uri": "https://localhost:8080/",
          "height": 563
        },
        "id": "fvDRfhFaGfY0",
        "outputId": "3c19a399-0267-4910-a763-d53afe0bdbd3"
      },
      "execution_count": null,
      "outputs": [
        {
          "output_type": "execute_result",
          "data": {
            "text/plain": [
              "                 Name    Goals  \\\n",
              "108     Macey Russell  College   \n",
              "59     Megan Scoggins  College   \n",
              "73      Robert Cherry  College   \n",
              "85         Abby Potts  College   \n",
              "30        Gage Elkins  College   \n",
              "55   Mario Phannachay  College   \n",
              "48         Lea Sumner  College   \n",
              "84      Wyatt Nesbitt  College   \n",
              "102    Kaiser Stunson  College   \n",
              "88   Autumn Henderson  College   \n",
              "60    Melanah Glisson  College   \n",
              "21    Chloe Sylvester  College   \n",
              "63     Nakhyia Staten  College   \n",
              "24       Connor Doyle  College   \n",
              "74     Sabrina Hodges  College   \n",
              "\n",
              "                                          CollegeNames  Accepted  \\\n",
              "108  Florida State, Western Kentucky, Brescia Unive...         0   \n",
              "59                                                 WKU         0   \n",
              "73                                              SKYCTC         0   \n",
              "85                                            WKU, OSU         0   \n",
              "30                                         WKU, SKYCTC         0   \n",
              "55                                                 WKU         1   \n",
              "48                                              SKYCTC         1   \n",
              "84                                              SKYCTC         1   \n",
              "102                                   WKU, U of L, TSU         0   \n",
              "88                                         Cosmetology         0   \n",
              "60                   WKU, Morehead, Bellarmine, Auburn         0   \n",
              "21                                             SKYCTC          0   \n",
              "63                 Tennessee State, Kentucky Sate, WKU         0   \n",
              "24                                              SKYCTC         0   \n",
              "74                                              SKYCTC         0   \n",
              "\n",
              "    If you have applied to colleges what is your major?  FAFSACompletion  \\\n",
              "108                               Education-Elementary                 1   \n",
              "59                                         Real Estate                 0   \n",
              "73                                 IT or Manufacturing                 0   \n",
              "85                                         Agriculture                 1   \n",
              "30                                            Business                 0   \n",
              "55                                           Undecided                 0   \n",
              "48                                      Dental Hygiene                 0   \n",
              "84                                             Welding                 0   \n",
              "102                                             Music                  1   \n",
              "88                                         Cosmetology                 1   \n",
              "60                     Pre-Vet (Bio or Animal Science)                 0   \n",
              "21                                           Radiology                 0   \n",
              "63                                             Pre-Med                 0   \n",
              "24                                             Welding                 0   \n",
              "74                                      Dental Hygiene                 0   \n",
              "\n",
              "     Scholarships  \n",
              "108             1  \n",
              "59              0  \n",
              "73              0  \n",
              "85              0  \n",
              "30              0  \n",
              "55              0  \n",
              "48              0  \n",
              "84              0  \n",
              "102             0  \n",
              "88              0  \n",
              "60              0  \n",
              "21              0  \n",
              "63              1  \n",
              "24              0  \n",
              "74              0  "
            ],
            "text/html": [
              "\n",
              "  <div id=\"df-0cc8b23d-7cc1-4224-9136-8b000fb8e81b\">\n",
              "    <div class=\"colab-df-container\">\n",
              "      <div>\n",
              "<style scoped>\n",
              "    .dataframe tbody tr th:only-of-type {\n",
              "        vertical-align: middle;\n",
              "    }\n",
              "\n",
              "    .dataframe tbody tr th {\n",
              "        vertical-align: top;\n",
              "    }\n",
              "\n",
              "    .dataframe thead th {\n",
              "        text-align: right;\n",
              "    }\n",
              "</style>\n",
              "<table border=\"1\" class=\"dataframe\">\n",
              "  <thead>\n",
              "    <tr style=\"text-align: right;\">\n",
              "      <th></th>\n",
              "      <th>Name</th>\n",
              "      <th>Goals</th>\n",
              "      <th>CollegeNames</th>\n",
              "      <th>Accepted</th>\n",
              "      <th>If you have applied to colleges what is your major?</th>\n",
              "      <th>FAFSACompletion</th>\n",
              "      <th>Scholarships</th>\n",
              "    </tr>\n",
              "  </thead>\n",
              "  <tbody>\n",
              "    <tr>\n",
              "      <th>108</th>\n",
              "      <td>Macey Russell</td>\n",
              "      <td>College</td>\n",
              "      <td>Florida State, Western Kentucky, Brescia Unive...</td>\n",
              "      <td>0</td>\n",
              "      <td>Education-Elementary</td>\n",
              "      <td>1</td>\n",
              "      <td>1</td>\n",
              "    </tr>\n",
              "    <tr>\n",
              "      <th>59</th>\n",
              "      <td>Megan Scoggins</td>\n",
              "      <td>College</td>\n",
              "      <td>WKU</td>\n",
              "      <td>0</td>\n",
              "      <td>Real Estate</td>\n",
              "      <td>0</td>\n",
              "      <td>0</td>\n",
              "    </tr>\n",
              "    <tr>\n",
              "      <th>73</th>\n",
              "      <td>Robert Cherry</td>\n",
              "      <td>College</td>\n",
              "      <td>SKYCTC</td>\n",
              "      <td>0</td>\n",
              "      <td>IT or Manufacturing</td>\n",
              "      <td>0</td>\n",
              "      <td>0</td>\n",
              "    </tr>\n",
              "    <tr>\n",
              "      <th>85</th>\n",
              "      <td>Abby Potts</td>\n",
              "      <td>College</td>\n",
              "      <td>WKU, OSU</td>\n",
              "      <td>0</td>\n",
              "      <td>Agriculture</td>\n",
              "      <td>1</td>\n",
              "      <td>0</td>\n",
              "    </tr>\n",
              "    <tr>\n",
              "      <th>30</th>\n",
              "      <td>Gage Elkins</td>\n",
              "      <td>College</td>\n",
              "      <td>WKU, SKYCTC</td>\n",
              "      <td>0</td>\n",
              "      <td>Business</td>\n",
              "      <td>0</td>\n",
              "      <td>0</td>\n",
              "    </tr>\n",
              "    <tr>\n",
              "      <th>55</th>\n",
              "      <td>Mario Phannachay</td>\n",
              "      <td>College</td>\n",
              "      <td>WKU</td>\n",
              "      <td>1</td>\n",
              "      <td>Undecided</td>\n",
              "      <td>0</td>\n",
              "      <td>0</td>\n",
              "    </tr>\n",
              "    <tr>\n",
              "      <th>48</th>\n",
              "      <td>Lea Sumner</td>\n",
              "      <td>College</td>\n",
              "      <td>SKYCTC</td>\n",
              "      <td>1</td>\n",
              "      <td>Dental Hygiene</td>\n",
              "      <td>0</td>\n",
              "      <td>0</td>\n",
              "    </tr>\n",
              "    <tr>\n",
              "      <th>84</th>\n",
              "      <td>Wyatt Nesbitt</td>\n",
              "      <td>College</td>\n",
              "      <td>SKYCTC</td>\n",
              "      <td>1</td>\n",
              "      <td>Welding</td>\n",
              "      <td>0</td>\n",
              "      <td>0</td>\n",
              "    </tr>\n",
              "    <tr>\n",
              "      <th>102</th>\n",
              "      <td>Kaiser Stunson</td>\n",
              "      <td>College</td>\n",
              "      <td>WKU, U of L, TSU</td>\n",
              "      <td>0</td>\n",
              "      <td>Music</td>\n",
              "      <td>1</td>\n",
              "      <td>0</td>\n",
              "    </tr>\n",
              "    <tr>\n",
              "      <th>88</th>\n",
              "      <td>Autumn Henderson</td>\n",
              "      <td>College</td>\n",
              "      <td>Cosmetology</td>\n",
              "      <td>0</td>\n",
              "      <td>Cosmetology</td>\n",
              "      <td>1</td>\n",
              "      <td>0</td>\n",
              "    </tr>\n",
              "    <tr>\n",
              "      <th>60</th>\n",
              "      <td>Melanah Glisson</td>\n",
              "      <td>College</td>\n",
              "      <td>WKU, Morehead, Bellarmine, Auburn</td>\n",
              "      <td>0</td>\n",
              "      <td>Pre-Vet (Bio or Animal Science)</td>\n",
              "      <td>0</td>\n",
              "      <td>0</td>\n",
              "    </tr>\n",
              "    <tr>\n",
              "      <th>21</th>\n",
              "      <td>Chloe Sylvester</td>\n",
              "      <td>College</td>\n",
              "      <td>SKYCTC</td>\n",
              "      <td>0</td>\n",
              "      <td>Radiology</td>\n",
              "      <td>0</td>\n",
              "      <td>0</td>\n",
              "    </tr>\n",
              "    <tr>\n",
              "      <th>63</th>\n",
              "      <td>Nakhyia Staten</td>\n",
              "      <td>College</td>\n",
              "      <td>Tennessee State, Kentucky Sate, WKU</td>\n",
              "      <td>0</td>\n",
              "      <td>Pre-Med</td>\n",
              "      <td>0</td>\n",
              "      <td>1</td>\n",
              "    </tr>\n",
              "    <tr>\n",
              "      <th>24</th>\n",
              "      <td>Connor Doyle</td>\n",
              "      <td>College</td>\n",
              "      <td>SKYCTC</td>\n",
              "      <td>0</td>\n",
              "      <td>Welding</td>\n",
              "      <td>0</td>\n",
              "      <td>0</td>\n",
              "    </tr>\n",
              "    <tr>\n",
              "      <th>74</th>\n",
              "      <td>Sabrina Hodges</td>\n",
              "      <td>College</td>\n",
              "      <td>SKYCTC</td>\n",
              "      <td>0</td>\n",
              "      <td>Dental Hygiene</td>\n",
              "      <td>0</td>\n",
              "      <td>0</td>\n",
              "    </tr>\n",
              "  </tbody>\n",
              "</table>\n",
              "</div>\n",
              "      <button class=\"colab-df-convert\" onclick=\"convertToInteractive('df-0cc8b23d-7cc1-4224-9136-8b000fb8e81b')\"\n",
              "              title=\"Convert this dataframe to an interactive table.\"\n",
              "              style=\"display:none;\">\n",
              "        \n",
              "  <svg xmlns=\"http://www.w3.org/2000/svg\" height=\"24px\"viewBox=\"0 0 24 24\"\n",
              "       width=\"24px\">\n",
              "    <path d=\"M0 0h24v24H0V0z\" fill=\"none\"/>\n",
              "    <path d=\"M18.56 5.44l.94 2.06.94-2.06 2.06-.94-2.06-.94-.94-2.06-.94 2.06-2.06.94zm-11 1L8.5 8.5l.94-2.06 2.06-.94-2.06-.94L8.5 2.5l-.94 2.06-2.06.94zm10 10l.94 2.06.94-2.06 2.06-.94-2.06-.94-.94-2.06-.94 2.06-2.06.94z\"/><path d=\"M17.41 7.96l-1.37-1.37c-.4-.4-.92-.59-1.43-.59-.52 0-1.04.2-1.43.59L10.3 9.45l-7.72 7.72c-.78.78-.78 2.05 0 2.83L4 21.41c.39.39.9.59 1.41.59.51 0 1.02-.2 1.41-.59l7.78-7.78 2.81-2.81c.8-.78.8-2.07 0-2.86zM5.41 20L4 18.59l7.72-7.72 1.47 1.35L5.41 20z\"/>\n",
              "  </svg>\n",
              "      </button>\n",
              "      \n",
              "  <style>\n",
              "    .colab-df-container {\n",
              "      display:flex;\n",
              "      flex-wrap:wrap;\n",
              "      gap: 12px;\n",
              "    }\n",
              "\n",
              "    .colab-df-convert {\n",
              "      background-color: #E8F0FE;\n",
              "      border: none;\n",
              "      border-radius: 50%;\n",
              "      cursor: pointer;\n",
              "      display: none;\n",
              "      fill: #1967D2;\n",
              "      height: 32px;\n",
              "      padding: 0 0 0 0;\n",
              "      width: 32px;\n",
              "    }\n",
              "\n",
              "    .colab-df-convert:hover {\n",
              "      background-color: #E2EBFA;\n",
              "      box-shadow: 0px 1px 2px rgba(60, 64, 67, 0.3), 0px 1px 3px 1px rgba(60, 64, 67, 0.15);\n",
              "      fill: #174EA6;\n",
              "    }\n",
              "\n",
              "    [theme=dark] .colab-df-convert {\n",
              "      background-color: #3B4455;\n",
              "      fill: #D2E3FC;\n",
              "    }\n",
              "\n",
              "    [theme=dark] .colab-df-convert:hover {\n",
              "      background-color: #434B5C;\n",
              "      box-shadow: 0px 1px 3px 1px rgba(0, 0, 0, 0.15);\n",
              "      filter: drop-shadow(0px 1px 2px rgba(0, 0, 0, 0.3));\n",
              "      fill: #FFFFFF;\n",
              "    }\n",
              "  </style>\n",
              "\n",
              "      <script>\n",
              "        const buttonEl =\n",
              "          document.querySelector('#df-0cc8b23d-7cc1-4224-9136-8b000fb8e81b button.colab-df-convert');\n",
              "        buttonEl.style.display =\n",
              "          google.colab.kernel.accessAllowed ? 'block' : 'none';\n",
              "\n",
              "        async function convertToInteractive(key) {\n",
              "          const element = document.querySelector('#df-0cc8b23d-7cc1-4224-9136-8b000fb8e81b');\n",
              "          const dataTable =\n",
              "            await google.colab.kernel.invokeFunction('convertToInteractive',\n",
              "                                                     [key], {});\n",
              "          if (!dataTable) return;\n",
              "\n",
              "          const docLinkHtml = 'Like what you see? Visit the ' +\n",
              "            '<a target=\"_blank\" href=https://colab.research.google.com/notebooks/data_table.ipynb>data table notebook</a>'\n",
              "            + ' to learn more about interactive tables.';\n",
              "          element.innerHTML = '';\n",
              "          dataTable['output_type'] = 'display_data';\n",
              "          await google.colab.output.renderOutput(dataTable, element);\n",
              "          const docLink = document.createElement('div');\n",
              "          docLink.innerHTML = docLinkHtml;\n",
              "          element.appendChild(docLink);\n",
              "        }\n",
              "      </script>\n",
              "    </div>\n",
              "  </div>\n",
              "  "
            ]
          },
          "metadata": {},
          "execution_count": 8
        }
      ]
    },
    {
      "cell_type": "code",
      "source": [
        "collegeDF.describe()"
      ],
      "metadata": {
        "colab": {
          "base_uri": "https://localhost:8080/",
          "height": 300
        },
        "id": "glf44po7G5Jn",
        "outputId": "e49e215f-b339-42a0-b0ac-8d8320da96e5"
      },
      "execution_count": null,
      "outputs": [
        {
          "output_type": "execute_result",
          "data": {
            "text/plain": [
              "         Accepted  FAFSACompletion  Scholarships\n",
              "count  119.000000       119.000000    119.000000\n",
              "mean     0.252101         0.235294      0.134454\n",
              "std      0.436055         0.425976      0.342582\n",
              "min      0.000000         0.000000      0.000000\n",
              "25%      0.000000         0.000000      0.000000\n",
              "50%      0.000000         0.000000      0.000000\n",
              "75%      0.500000         0.000000      0.000000\n",
              "max      1.000000         1.000000      1.000000"
            ],
            "text/html": [
              "\n",
              "  <div id=\"df-e4e84b73-cb20-416d-83d7-16bd2e9c2895\">\n",
              "    <div class=\"colab-df-container\">\n",
              "      <div>\n",
              "<style scoped>\n",
              "    .dataframe tbody tr th:only-of-type {\n",
              "        vertical-align: middle;\n",
              "    }\n",
              "\n",
              "    .dataframe tbody tr th {\n",
              "        vertical-align: top;\n",
              "    }\n",
              "\n",
              "    .dataframe thead th {\n",
              "        text-align: right;\n",
              "    }\n",
              "</style>\n",
              "<table border=\"1\" class=\"dataframe\">\n",
              "  <thead>\n",
              "    <tr style=\"text-align: right;\">\n",
              "      <th></th>\n",
              "      <th>Accepted</th>\n",
              "      <th>FAFSACompletion</th>\n",
              "      <th>Scholarships</th>\n",
              "    </tr>\n",
              "  </thead>\n",
              "  <tbody>\n",
              "    <tr>\n",
              "      <th>count</th>\n",
              "      <td>119.000000</td>\n",
              "      <td>119.000000</td>\n",
              "      <td>119.000000</td>\n",
              "    </tr>\n",
              "    <tr>\n",
              "      <th>mean</th>\n",
              "      <td>0.252101</td>\n",
              "      <td>0.235294</td>\n",
              "      <td>0.134454</td>\n",
              "    </tr>\n",
              "    <tr>\n",
              "      <th>std</th>\n",
              "      <td>0.436055</td>\n",
              "      <td>0.425976</td>\n",
              "      <td>0.342582</td>\n",
              "    </tr>\n",
              "    <tr>\n",
              "      <th>min</th>\n",
              "      <td>0.000000</td>\n",
              "      <td>0.000000</td>\n",
              "      <td>0.000000</td>\n",
              "    </tr>\n",
              "    <tr>\n",
              "      <th>25%</th>\n",
              "      <td>0.000000</td>\n",
              "      <td>0.000000</td>\n",
              "      <td>0.000000</td>\n",
              "    </tr>\n",
              "    <tr>\n",
              "      <th>50%</th>\n",
              "      <td>0.000000</td>\n",
              "      <td>0.000000</td>\n",
              "      <td>0.000000</td>\n",
              "    </tr>\n",
              "    <tr>\n",
              "      <th>75%</th>\n",
              "      <td>0.500000</td>\n",
              "      <td>0.000000</td>\n",
              "      <td>0.000000</td>\n",
              "    </tr>\n",
              "    <tr>\n",
              "      <th>max</th>\n",
              "      <td>1.000000</td>\n",
              "      <td>1.000000</td>\n",
              "      <td>1.000000</td>\n",
              "    </tr>\n",
              "  </tbody>\n",
              "</table>\n",
              "</div>\n",
              "      <button class=\"colab-df-convert\" onclick=\"convertToInteractive('df-e4e84b73-cb20-416d-83d7-16bd2e9c2895')\"\n",
              "              title=\"Convert this dataframe to an interactive table.\"\n",
              "              style=\"display:none;\">\n",
              "        \n",
              "  <svg xmlns=\"http://www.w3.org/2000/svg\" height=\"24px\"viewBox=\"0 0 24 24\"\n",
              "       width=\"24px\">\n",
              "    <path d=\"M0 0h24v24H0V0z\" fill=\"none\"/>\n",
              "    <path d=\"M18.56 5.44l.94 2.06.94-2.06 2.06-.94-2.06-.94-.94-2.06-.94 2.06-2.06.94zm-11 1L8.5 8.5l.94-2.06 2.06-.94-2.06-.94L8.5 2.5l-.94 2.06-2.06.94zm10 10l.94 2.06.94-2.06 2.06-.94-2.06-.94-.94-2.06-.94 2.06-2.06.94z\"/><path d=\"M17.41 7.96l-1.37-1.37c-.4-.4-.92-.59-1.43-.59-.52 0-1.04.2-1.43.59L10.3 9.45l-7.72 7.72c-.78.78-.78 2.05 0 2.83L4 21.41c.39.39.9.59 1.41.59.51 0 1.02-.2 1.41-.59l7.78-7.78 2.81-2.81c.8-.78.8-2.07 0-2.86zM5.41 20L4 18.59l7.72-7.72 1.47 1.35L5.41 20z\"/>\n",
              "  </svg>\n",
              "      </button>\n",
              "      \n",
              "  <style>\n",
              "    .colab-df-container {\n",
              "      display:flex;\n",
              "      flex-wrap:wrap;\n",
              "      gap: 12px;\n",
              "    }\n",
              "\n",
              "    .colab-df-convert {\n",
              "      background-color: #E8F0FE;\n",
              "      border: none;\n",
              "      border-radius: 50%;\n",
              "      cursor: pointer;\n",
              "      display: none;\n",
              "      fill: #1967D2;\n",
              "      height: 32px;\n",
              "      padding: 0 0 0 0;\n",
              "      width: 32px;\n",
              "    }\n",
              "\n",
              "    .colab-df-convert:hover {\n",
              "      background-color: #E2EBFA;\n",
              "      box-shadow: 0px 1px 2px rgba(60, 64, 67, 0.3), 0px 1px 3px 1px rgba(60, 64, 67, 0.15);\n",
              "      fill: #174EA6;\n",
              "    }\n",
              "\n",
              "    [theme=dark] .colab-df-convert {\n",
              "      background-color: #3B4455;\n",
              "      fill: #D2E3FC;\n",
              "    }\n",
              "\n",
              "    [theme=dark] .colab-df-convert:hover {\n",
              "      background-color: #434B5C;\n",
              "      box-shadow: 0px 1px 3px 1px rgba(0, 0, 0, 0.15);\n",
              "      filter: drop-shadow(0px 1px 2px rgba(0, 0, 0, 0.3));\n",
              "      fill: #FFFFFF;\n",
              "    }\n",
              "  </style>\n",
              "\n",
              "      <script>\n",
              "        const buttonEl =\n",
              "          document.querySelector('#df-e4e84b73-cb20-416d-83d7-16bd2e9c2895 button.colab-df-convert');\n",
              "        buttonEl.style.display =\n",
              "          google.colab.kernel.accessAllowed ? 'block' : 'none';\n",
              "\n",
              "        async function convertToInteractive(key) {\n",
              "          const element = document.querySelector('#df-e4e84b73-cb20-416d-83d7-16bd2e9c2895');\n",
              "          const dataTable =\n",
              "            await google.colab.kernel.invokeFunction('convertToInteractive',\n",
              "                                                     [key], {});\n",
              "          if (!dataTable) return;\n",
              "\n",
              "          const docLinkHtml = 'Like what you see? Visit the ' +\n",
              "            '<a target=\"_blank\" href=https://colab.research.google.com/notebooks/data_table.ipynb>data table notebook</a>'\n",
              "            + ' to learn more about interactive tables.';\n",
              "          element.innerHTML = '';\n",
              "          dataTable['output_type'] = 'display_data';\n",
              "          await google.colab.output.renderOutput(dataTable, element);\n",
              "          const docLink = document.createElement('div');\n",
              "          docLink.innerHTML = docLinkHtml;\n",
              "          element.appendChild(docLink);\n",
              "        }\n",
              "      </script>\n",
              "    </div>\n",
              "  </div>\n",
              "  "
            ]
          },
          "metadata": {},
          "execution_count": 9
        }
      ]
    },
    {
      "cell_type": "code",
      "source": [
        "acceptance_rate = collegeDF.Accepted.groupby(collegeDF.Accepted).count()\n",
        "FAFSA_count = collegeDF.FAFSACompletion.groupby(collegeDF.FAFSACompletion).count()\n",
        "scholarship_count = collegeDF.Scholarships.groupby(collegeDF.Scholarships).count()"
      ],
      "metadata": {
        "id": "gzF7M0R9HHjQ"
      },
      "execution_count": null,
      "outputs": []
    },
    {
      "cell_type": "code",
      "source": [
        "scholarship_count"
      ],
      "metadata": {
        "colab": {
          "base_uri": "https://localhost:8080/"
        },
        "id": "yDNGskfiHuhC",
        "outputId": "d25ce329-2142-44d8-c72c-afa65c824d41"
      },
      "execution_count": null,
      "outputs": [
        {
          "output_type": "execute_result",
          "data": {
            "text/plain": [
              "Scholarships\n",
              "0    103\n",
              "1     16\n",
              "Name: Scholarships, dtype: int64"
            ]
          },
          "metadata": {},
          "execution_count": 11
        }
      ]
    },
    {
      "cell_type": "code",
      "source": [
        "FAFSA_count"
      ],
      "metadata": {
        "colab": {
          "base_uri": "https://localhost:8080/"
        },
        "id": "LQE9V8qeH7HL",
        "outputId": "03a3b544-a061-463e-c6c7-c81e73a2a506"
      },
      "execution_count": null,
      "outputs": [
        {
          "output_type": "execute_result",
          "data": {
            "text/plain": [
              "FAFSACompletion\n",
              "0    91\n",
              "1    28\n",
              "Name: FAFSACompletion, dtype: int64"
            ]
          },
          "metadata": {},
          "execution_count": 12
        }
      ]
    },
    {
      "cell_type": "code",
      "source": [
        "acceptance_rate"
      ],
      "metadata": {
        "id": "yy3P346pH922",
        "outputId": "1880a3d0-9b89-41f1-f425-9f76d994a3cc",
        "colab": {
          "base_uri": "https://localhost:8080/"
        }
      },
      "execution_count": null,
      "outputs": [
        {
          "output_type": "execute_result",
          "data": {
            "text/plain": [
              "Accepted\n",
              "0    89\n",
              "1    30\n",
              "Name: Accepted, dtype: int64"
            ]
          },
          "metadata": {},
          "execution_count": 13
        }
      ]
    },
    {
      "cell_type": "code",
      "source": [
        "acceptance_rate.plot(kind=\"barh\", title=\"Accepted Students\", color=\"dodgerblue\")"
      ],
      "metadata": {
        "colab": {
          "base_uri": "https://localhost:8080/",
          "height": 299
        },
        "id": "IlQGpjSPGPUS",
        "outputId": "6c465990-5fd2-403f-8671-a8c1c2d490c7"
      },
      "execution_count": null,
      "outputs": [
        {
          "output_type": "execute_result",
          "data": {
            "text/plain": [
              "<matplotlib.axes._subplots.AxesSubplot at 0x7fa138d4b5e0>"
            ]
          },
          "metadata": {},
          "execution_count": 14
        },
        {
          "output_type": "display_data",
          "data": {
            "text/plain": [
              "<Figure size 432x288 with 1 Axes>"
            ],
            "image/png": "[encoded data removed]"
          },
          "metadata": {
            "needs_background": "light"
          }
        }
      ]
    },
    {
      "cell_type": "markdown",
      "source": [
        "*Based on this plot, the seniors have applied but not many are accepted*\n",
        "\n",
        "Note: some entries were not \"yes\" or \"no,\" therefore, those entries are marked as 0."
      ],
      "metadata": {
        "id": "Du2U4HHzIUoX"
      }
    },
    {
      "cell_type": "code",
      "source": [
        "FAFSA_count.plot(kind=\"bar\", title=\"FAFSA Completion\", color=\"goldenrod\")"
      ],
      "metadata": {
        "colab": {
          "base_uri": "https://localhost:8080/",
          "height": 310
        },
        "id": "9pXMpKyRLuGd",
        "outputId": "6259a22c-6d85-4f81-9ab2-7542f2f55a61"
      },
      "execution_count": null,
      "outputs": [
        {
          "output_type": "execute_result",
          "data": {
            "text/plain": [
              "<matplotlib.axes._subplots.AxesSubplot at 0x7fa137a91160>"
            ]
          },
          "metadata": {},
          "execution_count": 18
        },
        {
          "output_type": "display_data",
          "data": {
            "text/plain": [
              "<Figure size 432x288 with 1 Axes>"
            ],
            "image/png": "[encoded data removed]"
          },
          "metadata": {
            "needs_background": "light"
          }
        }
      ]
    },
    {
      "cell_type": "markdown",
      "source": [
        "*Seniors might have applied to their colleges, but their FAFSAs have not been completed*"
      ],
      "metadata": {
        "id": "QsiLoytxMUFb"
      }
    },
    {
      "cell_type": "code",
      "source": [
        "collegeDF.rename(columns={\"If you have applied to colleges what is your major?\": \"Major\"}, inplace=True)"
      ],
      "metadata": {
        "id": "JS1EToAiIw5n"
      },
      "execution_count": null,
      "outputs": []
    },
    {
      "cell_type": "code",
      "source": [
        "collegeDF.Major"
      ],
      "metadata": {
        "colab": {
          "base_uri": "https://localhost:8080/"
        },
        "id": "zDBiNQXLMtrA",
        "outputId": "0b2f6058-2652-4801-feef-78b306c9d5a9"
      },
      "execution_count": null,
      "outputs": [
        {
          "output_type": "execute_result",
          "data": {
            "text/plain": [
              "0                             Industrial Maintenance\n",
              "1                         General Science Technology\n",
              "2      Vet Science and back up major as SPED teacher\n",
              "3                                        Social Work\n",
              "4                                            Nursing\n",
              "                           ...                      \n",
              "114                             Physicians Assistant\n",
              "115                           Electrical Engineering\n",
              "116                                     Cosmetology \n",
              "117                                          Pre-Vet\n",
              "118                                               IT\n",
              "Name: Major, Length: 119, dtype: object"
            ]
          },
          "metadata": {},
          "execution_count": 16
        }
      ]
    }
  ]
}